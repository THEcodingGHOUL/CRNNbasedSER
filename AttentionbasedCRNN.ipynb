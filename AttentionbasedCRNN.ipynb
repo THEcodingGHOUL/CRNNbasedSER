{
  "nbformat": 4,
  "nbformat_minor": 0,
  "metadata": {
    "colab": {
      "name": "AttentionbasedCRNN.ipynb",
      "provenance": [],
      "collapsed_sections": [],
      "machine_shape": "hm"
    },
    "kernelspec": {
      "name": "python3",
      "display_name": "Python 3"
    }
  },
  "cells": [
    {
      "cell_type": "code",
      "metadata": {
        "id": "ZsNGKC3mUnQW",
        "colab_type": "code",
        "outputId": "41bfff9f-1055-4ce9-ee9d-5a192e450f7c",
        "colab": {
          "base_uri": "https://localhost:8080/",
          "height": 121
        }
      },
      "source": [
        "from google.colab import drive\n",
        "drive.mount('/content/drive')"
      ],
      "execution_count": 0,
      "outputs": [
        {
          "output_type": "stream",
          "text": [
            "Go to this URL in a browser: https://accounts.google.com/o/oauth2/auth?client_id=947318989803-6bn6qk8qdgf4n4g3pfee6491hc0brc4i.apps.googleusercontent.com&redirect_uri=urn%3aietf%3awg%3aoauth%3a2.0%3aoob&response_type=code&scope=email%20https%3a%2f%2fwww.googleapis.com%2fauth%2fdocs.test%20https%3a%2f%2fwww.googleapis.com%2fauth%2fdrive%20https%3a%2f%2fwww.googleapis.com%2fauth%2fdrive.photos.readonly%20https%3a%2f%2fwww.googleapis.com%2fauth%2fpeopleapi.readonly\n",
            "\n",
            "Enter your authorization code:\n",
            "··········\n",
            "Mounted at /content/drive\n"
          ],
          "name": "stdout"
        }
      ]
    },
    {
      "cell_type": "code",
      "metadata": {
        "id": "lIsxUBAJXBK5",
        "colab_type": "code",
        "colab": {}
      },
      "source": [
        "dir_path = \"/content/drive/My Drive/download/\""
      ],
      "execution_count": 0,
      "outputs": []
    },
    {
      "cell_type": "code",
      "metadata": {
        "id": "8_CYNR_160Rv",
        "colab_type": "code",
        "colab": {}
      },
      "source": [
        "from glob import glob\n",
        "from os import getcwd, chdir\n",
        " \n",
        "def list_files(directory, extension):\n",
        "    saved = getcwd()\n",
        "    chdir(directory)\n",
        "    it = glob('*.' + extension)\n",
        "    chdir(saved)\n",
        "    return it"
      ],
      "execution_count": 0,
      "outputs": []
    },
    {
      "cell_type": "code",
      "metadata": {
        "id": "ZxFnBHNQ69IK",
        "colab_type": "code",
        "outputId": "9c00e2ef-ca18-416a-c8a6-3cf07f64bbe2",
        "colab": {
          "base_uri": "https://localhost:8080/",
          "height": 235
        }
      },
      "source": [
        "X = list_files(dir_path,\"wav\")\n",
        "X"
      ],
      "execution_count": 0,
      "outputs": [
        {
          "output_type": "execute_result",
          "data": {
            "text/plain": [
              "['03a01Nc.wav',\n",
              " '03a01Wa.wav',\n",
              " '03a02Wb.wav',\n",
              " '03a02Wc.wav',\n",
              " '03a02Nc.wav',\n",
              " '03a04Nc.wav',\n",
              " '03a04Ta.wav',\n",
              " '03a01Fa.wav',\n",
              " '03a02Ta.wav',\n",
              " '03a04Lc.wav',\n",
              " '03a04Ad.wav',\n",
              " '03a04Fd.wav',\n",
              " '03a02Fc.wav']"
            ]
          },
          "metadata": {
            "tags": []
          },
          "execution_count": 5
        }
      ]
    },
    {
      "cell_type": "code",
      "metadata": {
        "id": "fod5bWkc_a9d",
        "colab_type": "code",
        "outputId": "d253418b-7b7e-4dee-e223-5281ab65f49b",
        "colab": {
          "base_uri": "https://localhost:8080/",
          "height": 34
        }
      },
      "source": [
        "# W\tanger\n",
        "# L\tboredom\n",
        "# E\tdisgust\n",
        "# A\tanxiety/fear\n",
        "# F\thappiness\n",
        "# T\tsadness\n",
        "# N = neutral version\n",
        "\n",
        "\n",
        "Y = []\n",
        "for f in X:\n",
        "  if(f[5]=='N'):\n",
        "    Y.append(0)\n",
        "  \n",
        "  if(f[5]=='W'):\n",
        "    Y.append(1)\n",
        "\n",
        "  if(f[5]=='L'):\n",
        "    Y.append(2)\n",
        "\n",
        "  if(f[5]=='E'):\n",
        "    Y.append(3)\n",
        "  \n",
        "  if(f[5]=='A'):\n",
        "    Y.append(4)\n",
        "\n",
        "  if(f[5]=='F'):\n",
        "    Y.append(5)\n",
        "  \n",
        "  if(f[5]=='T'):\n",
        "    Y.append(6)\n",
        "\n",
        "# Y\n",
        "\n"
      ],
      "execution_count": 0,
      "outputs": [
        {
          "output_type": "execute_result",
          "data": {
            "text/plain": [
              "[0, 1, 1, 1, 0, 0, 6, 5, 6, 2, 4, 5, 5]"
            ]
          },
          "metadata": {
            "tags": []
          },
          "execution_count": 19
        }
      ]
    },
    {
      "cell_type": "code",
      "metadata": {
        "id": "cwKS6vDXATkQ",
        "colab_type": "code",
        "colab": {}
      },
      "source": [
        "import numpy as np\n",
        "import scipy.io.wavfile\n",
        "import librosa\n",
        "import librosa.display\n",
        "import matplotlib.pyplot as plt\n",
        "from scipy.fftpack import dct\n",
        "from scipy import stats"
      ],
      "execution_count": 0,
      "outputs": []
    },
    {
      "cell_type": "code",
      "metadata": {
        "id": "mrRXtAN2CLli",
        "colab_type": "code",
        "colab": {}
      },
      "source": [
        "def normlize(x):\n",
        "    return ((x-np.min(x))/(np.max(x)-np.min(x)))"
      ],
      "execution_count": 0,
      "outputs": []
    },
    {
      "cell_type": "code",
      "metadata": {
        "id": "h4EFQpeBqirz",
        "colab_type": "code",
        "colab": {}
      },
      "source": [
        "def getFeatures(filename):\n",
        "  filepath = dir_path + filename\n",
        "\n",
        "  sample_rate, signal = scipy.io.wavfile.read(filepath)  \n",
        "  \n",
        "  signal = signal[0:int(3.5 * sample_rate)]  # Keep the first 3.5 seconds\n",
        "\n",
        "  pre_emphasis = 0.95\n",
        "  emphasized_signal = np.append(signal[0], signal[1:] - pre_emphasis * signal[:-1])\n",
        "\n",
        "\n",
        "  frame_size = 0.025\n",
        "  frame_stride = 0.01\n",
        "\n",
        "  frame_length = frame_size * sample_rate # Convert from seconds to samples\n",
        "  frame_step = frame_stride * sample_rate\n",
        "\n",
        "  signal_length = len(emphasized_signal)\n",
        "  frame_length = int(round(frame_length))\n",
        "  frame_step = int(round(frame_step))\n",
        "  num_frames = int(np.ceil(float(np.abs(signal_length - frame_length)) / frame_step))  # Make sure that we have at least 1 frame\n",
        "\n",
        "  pad_signal_length = num_frames * frame_step + frame_length\n",
        "  z = np.zeros((pad_signal_length - signal_length))\n",
        "  pad_signal = np.append(emphasized_signal, z) # Pad Signal to make sure that all frames have equal number of samples without truncating any samples from the original signal\n",
        "\n",
        "  indices = np.tile(np.arange(0, frame_length), (num_frames, 1)) + np.tile(np.arange(0, num_frames * frame_step, frame_step), (frame_length, 1)).T\n",
        "  frames = pad_signal[indices.astype(np.int32, copy=False)]\n",
        "\n",
        "  frames *= np.hamming(frame_length)\n",
        "\n",
        "  NFFT = 512\n",
        "  mag_frames = np.absolute(np.fft.rfft(frames, NFFT))  # Magnitude of the FFT\n",
        "  pow_frames = ((1.0 / NFFT) * ((mag_frames) ** 2))  # Power Spectrum\n",
        "\n",
        "  nfilt = 40\n",
        "\n",
        "  low_freq_mel = 0\n",
        "  high_freq_mel = (2595 * np.log10(1 + (sample_rate / 2) / 700))  # Convert Hz to Mel\n",
        "  mel_points = np.linspace(low_freq_mel, high_freq_mel, nfilt + 2)  # Equally spaced in Mel scale\n",
        "  hz_points = (700 * (10**(mel_points / 2595) - 1))  # Convert Mel to Hz\n",
        "  bin = np.floor((NFFT + 1) * hz_points / sample_rate)\n",
        "\n",
        "  fbank = np.zeros((nfilt, int(np.floor(NFFT / 2 + 1))))\n",
        "  for m in range(1, nfilt + 1):\n",
        "      f_m_minus = int(bin[m - 1])   # left\n",
        "      f_m = int(bin[m])             # center\n",
        "      f_m_plus = int(bin[m + 1])    # right\n",
        "\n",
        "      for k in range(f_m_minus, f_m):\n",
        "          fbank[m - 1, k] = (k - bin[m - 1]) / (bin[m] - bin[m - 1])\n",
        "      for k in range(f_m, f_m_plus):\n",
        "          fbank[m - 1, k] = (bin[m + 1] - k) / (bin[m + 1] - bin[m])\n",
        "  filter_banks = np.dot(pow_frames, fbank.T)\n",
        "  filter_banks = np.where(filter_banks == 0, np.finfo(float).eps, filter_banks)  # Numerical Stability\n",
        "  filter_banks = 20 * np.log10(filter_banks)  # dB\n",
        "\n",
        "  static = filter_banks\n",
        "  delta = librosa.feature.delta(static, order=1)\n",
        "  delta2 = librosa.feature.delta(static, order=2)\n",
        "\n",
        "  static = normlize(static)\n",
        "  delta = normlize(delta)\n",
        "  delta2 = normlize(delta2)\n",
        "\n",
        "  # print(static)\n",
        "\n",
        "  # static = np.array(static)\n",
        "  # delta = np.array(delta)\n",
        "  # delta2 = np.array(delta2)\n",
        "\n",
        "  # librosa.display.specshow(static)\n",
        "  # librosa.display.specshow(delta)\n",
        "  # librosa.display.specshow(delta2)\n",
        "\n",
        "  cnn_input = np.dstack((static,delta,delta2))\n",
        "\n",
        "  # cnn_input = np.array(cnn_input)\n",
        "  \n",
        "\n",
        "  return cnn_input\n",
        "\n"
      ],
      "execution_count": 0,
      "outputs": []
    },
    {
      "cell_type": "code",
      "metadata": {
        "id": "iQzo9huRCylP",
        "colab_type": "code",
        "outputId": "47d83e67-4914-43f8-b92c-82380e7e75f1",
        "colab": {
          "base_uri": "https://localhost:8080/",
          "height": 50
        }
      },
      "source": [
        "x = []\n",
        "y = Y\n",
        "y = np.array(y)\n",
        "\n",
        "for f in X:\n",
        "  temp  = getFeatures(f)\n",
        "  temp = np.resize(temp,(160,40,3))\n",
        "  x.append(temp)\n",
        "\n",
        "x = np.array(x)\n",
        "\n",
        "print(x.shape)\n",
        "print(y.shape)\n",
        "\n",
        "\n",
        "\n"
      ],
      "execution_count": 0,
      "outputs": [
        {
          "output_type": "stream",
          "text": [
            "(13, 160, 40, 3)\n",
            "(13,)\n"
          ],
          "name": "stdout"
        }
      ]
    },
    {
      "cell_type": "code",
      "metadata": {
        "id": "ejH75vxx_7Gz",
        "colab_type": "code",
        "colab": {}
      },
      "source": [
        "from sklearn.model_selection import KFold\n",
        "k = 10"
      ],
      "execution_count": 0,
      "outputs": []
    },
    {
      "cell_type": "code",
      "metadata": {
        "id": "KChYj7DDUhiH",
        "colab_type": "code",
        "colab": {}
      },
      "source": [
        "import tensorflow as tf\n",
        "\n",
        "from tensorflow.keras import datasets, layers, models \n",
        "from tensorflow.keras.layers import Dense , Reshape ,Activation\n"
      ],
      "execution_count": 0,
      "outputs": []
    },
    {
      "cell_type": "code",
      "metadata": {
        "id": "EgXMthIZtE5G",
        "colab_type": "code",
        "outputId": "aa430dbd-3ac3-4d25-9708-cba10028a007",
        "colab": {
          "base_uri": "https://localhost:8080/",
          "height": 1000
        }
      },
      "source": [
        "for train_index,test_index in KFold(k).split(x):\n",
        "\n",
        "  x_train,x_test=x[train_index],x[test_index]\n",
        "  y_train,y_test=y[train_index],y[test_index]\n",
        "\n",
        "  # print(x_train.shape)\n",
        "  # print(x_test.shape)\n",
        "  # print(y_train.shape)\n",
        "  # print(y_test.shape)\n",
        "\n",
        "  model = models.Sequential()\n",
        "  model.add(layers.Conv2D(128, (5, 3), activation='relu', input_shape=(160, 40, 3)))\n",
        "    \n",
        "\n",
        "  model.add(layers.MaxPooling2D((2, 2)))\n",
        "  model.add(layers.Dropout(0.2))\n",
        "\n",
        "\n",
        "  model.add(layers.Conv2D(256, (5, 3),activation='relu'))\n",
        "    \n",
        "  model.add(layers.Dropout(0.2))\n",
        "    \n",
        "  model.add(layers.Conv2D(256, (5, 3),activation='relu'))\n",
        "    \n",
        "  model.add(layers.Dropout(0.2))\n",
        "\n",
        "  model.add(layers.Conv2D(256, (5, 3),activation='relu'))\n",
        "\n",
        "  model.add(layers.Dropout(0.2))\n",
        "\n",
        "  model.add(layers.Conv2D(256, (5, 3),activation='relu'))\n",
        "\n",
        "  model.add(layers.Dropout(0.2))\n",
        "\n",
        "  model.add(layers.Flatten())\n",
        "  model.add(Dense(768, activation='relu', kernel_initializer='he_uniform'))\n",
        "\n",
        "\n",
        "  model.add(Reshape((1,768)))\n",
        "\n",
        "  model.add(layers.Bidirectional(layers.LSTM(128)))\n",
        "\n",
        "\n",
        "  model.add(Dense(64))\n",
        "  model.add(layers.BatchNormalization())\n",
        "  model.add(Dense(7))\n",
        "  \n",
        "  model.compile(optimizer='adam',\n",
        "              loss=tf.keras.losses.SparseCategoricalCrossentropy(from_logits=True),\n",
        "              metrics=['accuracy'])\n",
        "\n",
        "  model.fit(x_train, y_train,epochs=10)\n",
        "  \n",
        "  print('Model evaluation ',model.evaluate(x_test,y_test))"
      ],
      "execution_count": 0,
      "outputs": [
        {
          "output_type": "stream",
          "text": [
            "Epoch 1/10\n",
            "1/1 [==============================] - 0s 2ms/step - loss: 1.9473 - accuracy: 0.0909\n",
            "Epoch 2/10\n",
            "1/1 [==============================] - 0s 2ms/step - loss: 2.1673 - accuracy: 0.0000e+00\n",
            "Epoch 3/10\n",
            "1/1 [==============================] - 0s 1ms/step - loss: 2.1550 - accuracy: 0.1818\n",
            "Epoch 4/10\n",
            "1/1 [==============================] - 0s 1ms/step - loss: 1.9120 - accuracy: 0.1818\n",
            "Epoch 5/10\n",
            "1/1 [==============================] - 0s 2ms/step - loss: 1.6034 - accuracy: 0.3636\n",
            "Epoch 6/10\n",
            "1/1 [==============================] - 0s 1ms/step - loss: 1.9680 - accuracy: 0.2727\n",
            "Epoch 7/10\n",
            "1/1 [==============================] - 0s 1ms/step - loss: 1.7017 - accuracy: 0.3636\n",
            "Epoch 8/10\n",
            "1/1 [==============================] - 0s 2ms/step - loss: 2.2324 - accuracy: 0.0909\n",
            "Epoch 9/10\n",
            "1/1 [==============================] - 0s 1ms/step - loss: 1.8112 - accuracy: 0.2727\n",
            "Epoch 10/10\n",
            "1/1 [==============================] - 0s 2ms/step - loss: 1.7291 - accuracy: 0.3636\n",
            "1/1 [==============================] - 0s 2ms/step - loss: 2.5049 - accuracy: 0.0000e+00\n",
            "Model evaluation  [2.5049285888671875, 0.0]\n",
            "Epoch 1/10\n",
            "1/1 [==============================] - 0s 2ms/step - loss: 1.9210 - accuracy: 0.0909\n",
            "Epoch 2/10\n",
            "1/1 [==============================] - 0s 1ms/step - loss: 2.0611 - accuracy: 0.1818\n",
            "Epoch 3/10\n",
            "1/1 [==============================] - 0s 2ms/step - loss: 2.0695 - accuracy: 0.3636\n",
            "Epoch 4/10\n",
            "1/1 [==============================] - 0s 1ms/step - loss: 1.9766 - accuracy: 0.1818\n",
            "Epoch 5/10\n",
            "1/1 [==============================] - 0s 1ms/step - loss: 1.9493 - accuracy: 0.2727\n",
            "Epoch 6/10\n",
            "1/1 [==============================] - 0s 1ms/step - loss: 1.8728 - accuracy: 0.5455\n",
            "Epoch 7/10\n",
            "1/1 [==============================] - 0s 2ms/step - loss: 2.2168 - accuracy: 0.0909\n",
            "Epoch 8/10\n",
            "1/1 [==============================] - 0s 2ms/step - loss: 2.2251 - accuracy: 0.0909\n",
            "Epoch 9/10\n",
            "1/1 [==============================] - 0s 2ms/step - loss: 1.8895 - accuracy: 0.2727\n",
            "Epoch 10/10\n",
            "1/1 [==============================] - 0s 1ms/step - loss: 2.0571 - accuracy: 0.2727\n",
            "1/1 [==============================] - 0s 1ms/step - loss: 1.6985 - accuracy: 0.0000e+00\n",
            "Model evaluation  [1.6985430717468262, 0.0]\n",
            "Epoch 1/10\n",
            "1/1 [==============================] - 0s 2ms/step - loss: 1.9495 - accuracy: 0.0909\n",
            "Epoch 2/10\n",
            "1/1 [==============================] - 0s 1ms/step - loss: 1.7123 - accuracy: 0.4545\n",
            "Epoch 3/10\n",
            "1/1 [==============================] - 0s 2ms/step - loss: 2.2028 - accuracy: 0.0909\n",
            "Epoch 4/10\n",
            "1/1 [==============================] - 0s 2ms/step - loss: 1.8001 - accuracy: 0.2727\n",
            "Epoch 5/10\n",
            "1/1 [==============================] - 0s 2ms/step - loss: 1.6311 - accuracy: 0.4545\n",
            "Epoch 6/10\n",
            "1/1 [==============================] - 0s 2ms/step - loss: 2.1635 - accuracy: 0.1818\n",
            "Epoch 7/10\n",
            "1/1 [==============================] - 0s 2ms/step - loss: 2.1289 - accuracy: 0.1818\n",
            "Epoch 8/10\n",
            "1/1 [==============================] - 0s 2ms/step - loss: 2.2929 - accuracy: 0.1818\n",
            "Epoch 9/10\n",
            "1/1 [==============================] - 0s 1ms/step - loss: 2.0083 - accuracy: 0.0000e+00\n",
            "Epoch 10/10\n",
            "1/1 [==============================] - 0s 2ms/step - loss: 2.5056 - accuracy: 0.0909\n",
            "1/1 [==============================] - 0s 1ms/step - loss: 1.6664 - accuracy: 0.0000e+00\n",
            "Model evaluation  [1.6664021015167236, 0.0]\n",
            "Epoch 1/10\n",
            "1/1 [==============================] - 0s 1ms/step - loss: 2.0457 - accuracy: 0.0833\n",
            "Epoch 2/10\n",
            "1/1 [==============================] - 0s 2ms/step - loss: 2.0009 - accuracy: 0.1667\n",
            "Epoch 3/10\n",
            "1/1 [==============================] - 0s 1ms/step - loss: 2.3656 - accuracy: 0.1667\n",
            "Epoch 4/10\n",
            "1/1 [==============================] - 0s 2ms/step - loss: 2.0970 - accuracy: 0.1667\n",
            "Epoch 5/10\n",
            "1/1 [==============================] - 0s 1ms/step - loss: 2.2729 - accuracy: 0.0000e+00\n",
            "Epoch 6/10\n",
            "1/1 [==============================] - 0s 1ms/step - loss: 2.0742 - accuracy: 0.1667\n",
            "Epoch 7/10\n",
            "1/1 [==============================] - 0s 1ms/step - loss: 2.2967 - accuracy: 0.0833\n",
            "Epoch 8/10\n",
            "1/1 [==============================] - 0s 1ms/step - loss: 1.8381 - accuracy: 0.2500\n",
            "Epoch 9/10\n",
            "1/1 [==============================] - 0s 1ms/step - loss: 1.9929 - accuracy: 0.1667\n",
            "Epoch 10/10\n",
            "1/1 [==============================] - 0s 1ms/step - loss: 2.2059 - accuracy: 0.1667\n",
            "1/1 [==============================] - 0s 1ms/step - loss: 1.9459 - accuracy: 0.0000e+00\n",
            "Model evaluation  [1.9459412097930908, 0.0]\n",
            "Epoch 1/10\n",
            "1/1 [==============================] - 0s 1ms/step - loss: 1.9954 - accuracy: 0.1667\n",
            "Epoch 2/10\n",
            "1/1 [==============================] - 0s 1ms/step - loss: 2.1005 - accuracy: 0.0833\n",
            "Epoch 3/10\n",
            "1/1 [==============================] - 0s 1ms/step - loss: 2.2064 - accuracy: 0.1667\n",
            "Epoch 4/10\n",
            "1/1 [==============================] - 0s 1ms/step - loss: 1.8060 - accuracy: 0.2500\n",
            "Epoch 5/10\n",
            "1/1 [==============================] - 0s 2ms/step - loss: 1.8537 - accuracy: 0.5000\n",
            "Epoch 6/10\n",
            "1/1 [==============================] - 0s 2ms/step - loss: 1.5545 - accuracy: 0.5000\n",
            "Epoch 7/10\n",
            "1/1 [==============================] - 0s 1ms/step - loss: 1.6473 - accuracy: 0.3333\n",
            "Epoch 8/10\n",
            "1/1 [==============================] - 0s 1ms/step - loss: 1.9545 - accuracy: 0.3333\n",
            "Epoch 9/10\n",
            "1/1 [==============================] - 0s 2ms/step - loss: 1.2383 - accuracy: 0.5833\n",
            "Epoch 10/10\n",
            "1/1 [==============================] - 0s 1ms/step - loss: 0.9815 - accuracy: 0.7500\n",
            "1/1 [==============================] - 0s 1ms/step - loss: 2.2345 - accuracy: 0.0000e+00\n",
            "Model evaluation  [2.2345330715179443, 0.0]\n",
            "Epoch 1/10\n",
            "1/1 [==============================] - 0s 2ms/step - loss: 2.0763 - accuracy: 0.0000e+00\n",
            "Epoch 2/10\n",
            "1/1 [==============================] - 0s 1ms/step - loss: 1.9976 - accuracy: 0.2500\n",
            "Epoch 3/10\n",
            "1/1 [==============================] - 0s 1ms/step - loss: 2.3829 - accuracy: 0.1667\n",
            "Epoch 4/10\n",
            "1/1 [==============================] - 0s 1ms/step - loss: 1.8010 - accuracy: 0.2500\n",
            "Epoch 5/10\n",
            "1/1 [==============================] - 0s 1ms/step - loss: 1.4708 - accuracy: 0.4167\n",
            "Epoch 6/10\n",
            "1/1 [==============================] - 0s 2ms/step - loss: 1.2796 - accuracy: 0.5000\n",
            "Epoch 7/10\n",
            "1/1 [==============================] - 0s 1ms/step - loss: 1.0138 - accuracy: 0.6667\n",
            "Epoch 8/10\n",
            "1/1 [==============================] - 0s 2ms/step - loss: 0.7694 - accuracy: 0.7500\n",
            "Epoch 9/10\n",
            "1/1 [==============================] - 0s 1ms/step - loss: 0.6191 - accuracy: 0.8333\n",
            "Epoch 10/10\n",
            "1/1 [==============================] - 0s 1ms/step - loss: 0.3810 - accuracy: 1.0000\n",
            "1/1 [==============================] - 0s 1ms/step - loss: 2.5019 - accuracy: 0.0000e+00\n",
            "Model evaluation  [2.501906394958496, 0.0]\n",
            "Epoch 1/10\n",
            "1/1 [==============================] - 0s 2ms/step - loss: 1.9178 - accuracy: 0.1667\n",
            "Epoch 2/10\n",
            "1/1 [==============================] - 0s 1ms/step - loss: 1.8889 - accuracy: 0.2500\n",
            "Epoch 3/10\n",
            "1/1 [==============================] - 0s 3ms/step - loss: 1.7812 - accuracy: 0.3333\n",
            "Epoch 4/10\n",
            "1/1 [==============================] - 0s 1ms/step - loss: 2.0978 - accuracy: 0.0833\n",
            "Epoch 5/10\n",
            "1/1 [==============================] - 0s 1ms/step - loss: 1.9484 - accuracy: 0.2500\n",
            "Epoch 6/10\n",
            "1/1 [==============================] - 0s 2ms/step - loss: 2.2663 - accuracy: 0.0833\n",
            "Epoch 7/10\n",
            "1/1 [==============================] - 0s 2ms/step - loss: 1.8221 - accuracy: 0.4167\n",
            "Epoch 8/10\n",
            "1/1 [==============================] - 0s 1ms/step - loss: 1.6220 - accuracy: 0.3333\n",
            "Epoch 9/10\n",
            "1/1 [==============================] - 0s 1ms/step - loss: 1.4534 - accuracy: 0.5833\n",
            "Epoch 10/10\n",
            "1/1 [==============================] - 0s 1ms/step - loss: 1.2390 - accuracy: 0.5000\n",
            "1/1 [==============================] - 0s 1ms/step - loss: 1.4717 - accuracy: 1.0000\n",
            "Model evaluation  [1.4717179536819458, 1.0]\n",
            "Epoch 1/10\n",
            "1/1 [==============================] - 0s 1ms/step - loss: 1.9480 - accuracy: 0.0833\n",
            "Epoch 2/10\n",
            "1/1 [==============================] - 0s 1ms/step - loss: 1.7426 - accuracy: 0.2500\n",
            "Epoch 3/10\n",
            "1/1 [==============================] - 0s 2ms/step - loss: 1.8473 - accuracy: 0.2500\n",
            "Epoch 4/10\n",
            "1/1 [==============================] - 0s 2ms/step - loss: 2.3917 - accuracy: 0.0833\n",
            "Epoch 5/10\n",
            "1/1 [==============================] - 0s 2ms/step - loss: 1.8772 - accuracy: 0.2500\n",
            "Epoch 6/10\n",
            "1/1 [==============================] - 0s 1ms/step - loss: 2.2449 - accuracy: 0.0000e+00\n",
            "Epoch 7/10\n",
            "1/1 [==============================] - 0s 1ms/step - loss: 2.2497 - accuracy: 0.0833\n",
            "Epoch 8/10\n",
            "1/1 [==============================] - 0s 2ms/step - loss: 1.9009 - accuracy: 0.4167\n",
            "Epoch 9/10\n",
            "1/1 [==============================] - 0s 1ms/step - loss: 1.8494 - accuracy: 0.0833\n",
            "Epoch 10/10\n",
            "1/1 [==============================] - 0s 1ms/step - loss: 1.9446 - accuracy: 0.3333\n",
            "1/1 [==============================] - 0s 1ms/step - loss: 2.0527 - accuracy: 0.0000e+00\n",
            "Model evaluation  [2.0526766777038574, 0.0]\n",
            "Epoch 1/10\n",
            "1/1 [==============================] - 0s 1ms/step - loss: 2.0168 - accuracy: 0.1667\n",
            "Epoch 2/10\n",
            "1/1 [==============================] - 0s 2ms/step - loss: 2.2614 - accuracy: 0.0833\n",
            "Epoch 3/10\n",
            "1/1 [==============================] - 0s 2ms/step - loss: 2.1930 - accuracy: 0.2500\n",
            "Epoch 4/10\n",
            "1/1 [==============================] - 0s 1ms/step - loss: 1.8524 - accuracy: 0.0833\n",
            "Epoch 5/10\n",
            "1/1 [==============================] - 0s 2ms/step - loss: 2.1730 - accuracy: 0.1667\n",
            "Epoch 6/10\n",
            "1/1 [==============================] - 0s 1ms/step - loss: 1.8867 - accuracy: 0.3333\n",
            "Epoch 7/10\n",
            "1/1 [==============================] - 0s 2ms/step - loss: 1.8477 - accuracy: 0.3333\n",
            "Epoch 8/10\n",
            "1/1 [==============================] - 0s 1ms/step - loss: 1.8312 - accuracy: 0.4167\n",
            "Epoch 9/10\n",
            "1/1 [==============================] - 0s 1ms/step - loss: 2.0534 - accuracy: 0.2500\n",
            "Epoch 10/10\n",
            "1/1 [==============================] - 0s 2ms/step - loss: 1.9054 - accuracy: 0.4167\n",
            "1/1 [==============================] - 0s 2ms/step - loss: 3.1974 - accuracy: 0.0000e+00\n",
            "Model evaluation  [3.197406053543091, 0.0]\n",
            "Epoch 1/10\n",
            "1/1 [==============================] - 0s 2ms/step - loss: 2.0256 - accuracy: 0.0833\n",
            "Epoch 2/10\n",
            "1/1 [==============================] - 0s 2ms/step - loss: 1.8076 - accuracy: 0.3333\n",
            "Epoch 3/10\n",
            "1/1 [==============================] - 0s 1ms/step - loss: 2.4335 - accuracy: 0.3333\n",
            "Epoch 4/10\n",
            "1/1 [==============================] - 0s 1ms/step - loss: 1.5235 - accuracy: 0.3333\n",
            "Epoch 5/10\n",
            "1/1 [==============================] - 0s 1ms/step - loss: 1.9133 - accuracy: 0.1667\n",
            "Epoch 6/10\n",
            "1/1 [==============================] - 0s 1ms/step - loss: 1.6111 - accuracy: 0.4167\n",
            "Epoch 7/10\n",
            "1/1 [==============================] - 0s 1ms/step - loss: 1.9886 - accuracy: 0.2500\n",
            "Epoch 8/10\n",
            "1/1 [==============================] - 0s 2ms/step - loss: 1.8482 - accuracy: 0.2500\n",
            "Epoch 9/10\n",
            "1/1 [==============================] - 0s 1ms/step - loss: 1.8583 - accuracy: 0.4167\n",
            "Epoch 10/10\n",
            "1/1 [==============================] - 0s 2ms/step - loss: 1.9118 - accuracy: 0.1667\n",
            "1/1 [==============================] - 0s 1ms/step - loss: 2.8396 - accuracy: 0.0000e+00\n",
            "Model evaluation  [2.8396403789520264, 0.0]\n"
          ],
          "name": "stdout"
        }
      ]
    },
    {
      "cell_type": "code",
      "metadata": {
        "id": "4rrYTEaYurDX",
        "colab_type": "code",
        "colab": {}
      },
      "source": [
        "probability_model = tf.keras.Sequential([model, \n",
        "                                         tf.keras.layers.Softmax()])"
      ],
      "execution_count": 0,
      "outputs": []
    },
    {
      "cell_type": "code",
      "metadata": {
        "id": "Va-2GDeh_-EZ",
        "colab_type": "code",
        "colab": {}
      },
      "source": [
        "predictions = probability_model.predict(x_test)"
      ],
      "execution_count": 0,
      "outputs": []
    },
    {
      "cell_type": "code",
      "metadata": {
        "id": "lZUNoZaAAS1R",
        "colab_type": "code",
        "outputId": "cc8e70eb-2602-405f-bf1d-b8b0ca130392",
        "colab": {
          "base_uri": "https://localhost:8080/",
          "height": 50
        }
      },
      "source": [
        "predictions[0]"
      ],
      "execution_count": 0,
      "outputs": [
        {
          "output_type": "execute_result",
          "data": {
            "text/plain": [
              "array([0.08073713, 0.05234797, 0.32240772, 0.09097443, 0.34852213,\n",
              "       0.05844668, 0.04656399], dtype=float32)"
            ]
          },
          "metadata": {
            "tags": []
          },
          "execution_count": 31
        }
      ]
    },
    {
      "cell_type": "code",
      "metadata": {
        "id": "kp1165n5ActX",
        "colab_type": "code",
        "outputId": "26962632-a90e-41cf-85b0-413bd2fd30e7",
        "colab": {
          "base_uri": "https://localhost:8080/",
          "height": 34
        }
      },
      "source": [
        "np.argmax(predictions[0])"
      ],
      "execution_count": 0,
      "outputs": [
        {
          "output_type": "execute_result",
          "data": {
            "text/plain": [
              "4"
            ]
          },
          "metadata": {
            "tags": []
          },
          "execution_count": 32
        }
      ]
    }
  ]
}
